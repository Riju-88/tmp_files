{
  "cells": [
    {
      "cell_type": "markdown",
      "metadata": {
        "id": "view-in-github",
        "colab_type": "text"
      },
      "source": [
        "<a href=\"https://colab.research.google.com/github/Riju-88/tmp_files/blob/main/colab/Yue_extend_with_exllama.ipynb\" target=\"_parent\"><img src=\"https://colab.research.google.com/assets/colab-badge.svg\" alt=\"Open In Colab\"/></a>"
      ]
    },
    {
      "cell_type": "markdown",
      "source": [
        "Colab for https://github.com/Mozer/YuE-extend\n",
        "- It can extend any uploaded mp3\n",
        "- uses exllama2 module\n",
        "- flash_attention 2 is not supported for Tesla T4"
      ],
      "metadata": {
        "id": "YxxMsW65bTkY"
      }
    },
    {
      "cell_type": "markdown",
      "source": [
        "# Install"
      ],
      "metadata": {
        "id": "1AGDa6XIm24q"
      }
    },
    {
      "cell_type": "code",
      "execution_count": 1,
      "metadata": {
        "id": "cKLWNc_I9xKn",
        "colab": {
          "base_uri": "https://localhost:8080/",
          "height": 1000
        },
        "outputId": "dc555908-1245-4800-ede9-1f75f0cff7d6"
      },
      "outputs": [
        {
          "output_type": "stream",
          "name": "stdout",
          "text": [
            "Requirement already satisfied: exllamav2 in /usr/local/lib/python3.11/dist-packages (0.2.8)\n",
            "Requirement already satisfied: pandas in /usr/local/lib/python3.11/dist-packages (from exllamav2) (2.2.2)\n",
            "Requirement already satisfied: ninja in /usr/local/lib/python3.11/dist-packages (from exllamav2) (1.11.1.4)\n",
            "Requirement already satisfied: fastparquet in /usr/local/lib/python3.11/dist-packages (from exllamav2) (2024.11.0)\n",
            "Requirement already satisfied: torch>=2.2.0 in /usr/local/lib/python3.11/dist-packages (from exllamav2) (2.6.0)\n",
            "Requirement already satisfied: safetensors>=0.3.2 in /usr/local/lib/python3.11/dist-packages (from exllamav2) (0.5.3)\n",
            "Requirement already satisfied: sentencepiece>=0.1.97 in /usr/local/lib/python3.11/dist-packages (from exllamav2) (0.2.0)\n",
            "Requirement already satisfied: pygments in /usr/local/lib/python3.11/dist-packages (from exllamav2) (2.18.0)\n",
            "Requirement already satisfied: websockets in /usr/local/lib/python3.11/dist-packages (from exllamav2) (14.2)\n",
            "Requirement already satisfied: regex in /usr/local/lib/python3.11/dist-packages (from exllamav2) (2024.11.6)\n",
            "Requirement already satisfied: numpy in /usr/local/lib/python3.11/dist-packages (from exllamav2) (2.0.2)\n",
            "Requirement already satisfied: rich in /usr/local/lib/python3.11/dist-packages (from exllamav2) (13.9.4)\n",
            "Requirement already satisfied: pillow>=9.1.0 in /usr/local/lib/python3.11/dist-packages (from exllamav2) (11.1.0)\n",
            "Requirement already satisfied: filelock in /usr/local/lib/python3.11/dist-packages (from torch>=2.2.0->exllamav2) (3.18.0)\n",
            "Requirement already satisfied: typing-extensions>=4.10.0 in /usr/local/lib/python3.11/dist-packages (from torch>=2.2.0->exllamav2) (4.12.2)\n",
            "Requirement already satisfied: networkx in /usr/local/lib/python3.11/dist-packages (from torch>=2.2.0->exllamav2) (3.4.2)\n",
            "Requirement already satisfied: jinja2 in /usr/local/lib/python3.11/dist-packages (from torch>=2.2.0->exllamav2) (3.1.6)\n",
            "Requirement already satisfied: fsspec in /usr/local/lib/python3.11/dist-packages (from torch>=2.2.0->exllamav2) (2025.3.0)\n",
            "Requirement already satisfied: nvidia-cuda-nvrtc-cu12==12.4.127 in /usr/local/lib/python3.11/dist-packages (from torch>=2.2.0->exllamav2) (12.4.127)\n",
            "Requirement already satisfied: nvidia-cuda-runtime-cu12==12.4.127 in /usr/local/lib/python3.11/dist-packages (from torch>=2.2.0->exllamav2) (12.4.127)\n",
            "Requirement already satisfied: nvidia-cuda-cupti-cu12==12.4.127 in /usr/local/lib/python3.11/dist-packages (from torch>=2.2.0->exllamav2) (12.4.127)\n",
            "Requirement already satisfied: nvidia-cudnn-cu12==9.1.0.70 in /usr/local/lib/python3.11/dist-packages (from torch>=2.2.0->exllamav2) (9.1.0.70)\n",
            "Requirement already satisfied: nvidia-cublas-cu12==12.4.5.8 in /usr/local/lib/python3.11/dist-packages (from torch>=2.2.0->exllamav2) (12.4.5.8)\n",
            "Requirement already satisfied: nvidia-cufft-cu12==11.2.1.3 in /usr/local/lib/python3.11/dist-packages (from torch>=2.2.0->exllamav2) (11.2.1.3)\n",
            "Requirement already satisfied: nvidia-curand-cu12==10.3.5.147 in /usr/local/lib/python3.11/dist-packages (from torch>=2.2.0->exllamav2) (10.3.5.147)\n",
            "Requirement already satisfied: nvidia-cusolver-cu12==11.6.1.9 in /usr/local/lib/python3.11/dist-packages (from torch>=2.2.0->exllamav2) (11.6.1.9)\n",
            "Requirement already satisfied: nvidia-cusparse-cu12==12.3.1.170 in /usr/local/lib/python3.11/dist-packages (from torch>=2.2.0->exllamav2) (12.3.1.170)\n",
            "Requirement already satisfied: nvidia-cusparselt-cu12==0.6.2 in /usr/local/lib/python3.11/dist-packages (from torch>=2.2.0->exllamav2) (0.6.2)\n",
            "Requirement already satisfied: nvidia-nccl-cu12==2.21.5 in /usr/local/lib/python3.11/dist-packages (from torch>=2.2.0->exllamav2) (2.21.5)\n",
            "Requirement already satisfied: nvidia-nvtx-cu12==12.4.127 in /usr/local/lib/python3.11/dist-packages (from torch>=2.2.0->exllamav2) (12.4.127)\n",
            "Requirement already satisfied: nvidia-nvjitlink-cu12==12.4.127 in /usr/local/lib/python3.11/dist-packages (from torch>=2.2.0->exllamav2) (12.4.127)\n",
            "Requirement already satisfied: triton==3.2.0 in /usr/local/lib/python3.11/dist-packages (from torch>=2.2.0->exllamav2) (3.2.0)\n",
            "Requirement already satisfied: sympy==1.13.1 in /usr/local/lib/python3.11/dist-packages (from torch>=2.2.0->exllamav2) (1.13.1)\n",
            "Requirement already satisfied: mpmath<1.4,>=1.1.0 in /usr/local/lib/python3.11/dist-packages (from sympy==1.13.1->torch>=2.2.0->exllamav2) (1.3.0)\n",
            "Requirement already satisfied: cramjam>=2.3 in /usr/local/lib/python3.11/dist-packages (from fastparquet->exllamav2) (2.9.1)\n",
            "Requirement already satisfied: packaging in /usr/local/lib/python3.11/dist-packages (from fastparquet->exllamav2) (24.2)\n",
            "Requirement already satisfied: python-dateutil>=2.8.2 in /usr/local/lib/python3.11/dist-packages (from pandas->exllamav2) (2.8.2)\n",
            "Requirement already satisfied: pytz>=2020.1 in /usr/local/lib/python3.11/dist-packages (from pandas->exllamav2) (2025.1)\n",
            "Requirement already satisfied: tzdata>=2022.7 in /usr/local/lib/python3.11/dist-packages (from pandas->exllamav2) (2025.1)\n",
            "Requirement already satisfied: markdown-it-py>=2.2.0 in /usr/local/lib/python3.11/dist-packages (from rich->exllamav2) (3.0.0)\n",
            "Requirement already satisfied: mdurl~=0.1 in /usr/local/lib/python3.11/dist-packages (from markdown-it-py>=2.2.0->rich->exllamav2) (0.1.2)\n",
            "Requirement already satisfied: six>=1.5 in /usr/local/lib/python3.11/dist-packages (from python-dateutil>=2.8.2->pandas->exllamav2) (1.17.0)\n",
            "Requirement already satisfied: MarkupSafe>=2.0 in /usr/local/lib/python3.11/dist-packages (from jinja2->torch>=2.2.0->exllamav2) (3.0.2)\n",
            "fatal: destination path 'YuE-extend' already exists and is not an empty directory.\n",
            "/content/YuE-extend\n",
            "Requirement already satisfied: torch in /usr/local/lib/python3.11/dist-packages (from -r requirements.txt (line 1)) (2.6.0)\n",
            "Requirement already satisfied: omegaconf in /usr/local/lib/python3.11/dist-packages (from -r requirements.txt (line 2)) (2.3.0)\n",
            "Requirement already satisfied: torchaudio in /usr/local/lib/python3.11/dist-packages (from -r requirements.txt (line 3)) (2.6.0)\n",
            "Requirement already satisfied: einops in /usr/local/lib/python3.11/dist-packages (from -r requirements.txt (line 4)) (0.8.1)\n",
            "Requirement already satisfied: numpy in /usr/local/lib/python3.11/dist-packages (from -r requirements.txt (line 5)) (2.0.2)\n",
            "Requirement already satisfied: transformers in /usr/local/lib/python3.11/dist-packages (from -r requirements.txt (line 6)) (4.50.0)\n",
            "Requirement already satisfied: sentencepiece in /usr/local/lib/python3.11/dist-packages (from -r requirements.txt (line 7)) (0.2.0)\n",
            "Requirement already satisfied: tqdm in /usr/local/lib/python3.11/dist-packages (from -r requirements.txt (line 8)) (4.67.1)\n",
            "Requirement already satisfied: tensorboard in /usr/local/lib/python3.11/dist-packages (from -r requirements.txt (line 9)) (2.19.0)\n",
            "Requirement already satisfied: descript-audiotools>=0.7.2 in /usr/local/lib/python3.11/dist-packages (from -r requirements.txt (line 10)) (0.7.2)\n",
            "Requirement already satisfied: descript-audio-codec in /usr/local/lib/python3.11/dist-packages (from -r requirements.txt (line 11)) (1.0.0)\n",
            "Requirement already satisfied: scipy in /usr/local/lib/python3.11/dist-packages (from -r requirements.txt (line 12)) (1.14.1)\n",
            "Requirement already satisfied: accelerate>=0.26.0 in /usr/local/lib/python3.11/dist-packages (from -r requirements.txt (line 13)) (1.5.2)\n",
            "Requirement already satisfied: gradio in /usr/local/lib/python3.11/dist-packages (from -r requirements.txt (line 14)) (5.22.0)\n",
            "Requirement already satisfied: flash-attn in /usr/local/lib/python3.11/dist-packages (from -r requirements.txt (line 15)) (2.7.4.post1)\n",
            "Requirement already satisfied: sageattention in /usr/local/lib/python3.11/dist-packages (from -r requirements.txt (line 16)) (1.0.6)\n",
            "Requirement already satisfied: psutil in /usr/local/lib/python3.11/dist-packages (from -r requirements.txt (line 17)) (5.9.5)\n",
            "Requirement already satisfied: huggingface_hub in /usr/local/lib/python3.11/dist-packages (from -r requirements.txt (line 18)) (0.29.3)\n",
            "Requirement already satisfied: filelock in /usr/local/lib/python3.11/dist-packages (from torch->-r requirements.txt (line 1)) (3.18.0)\n",
            "Requirement already satisfied: typing-extensions>=4.10.0 in /usr/local/lib/python3.11/dist-packages (from torch->-r requirements.txt (line 1)) (4.12.2)\n",
            "Requirement already satisfied: networkx in /usr/local/lib/python3.11/dist-packages (from torch->-r requirements.txt (line 1)) (3.4.2)\n",
            "Requirement already satisfied: jinja2 in /usr/local/lib/python3.11/dist-packages (from torch->-r requirements.txt (line 1)) (3.1.6)\n",
            "Requirement already satisfied: fsspec in /usr/local/lib/python3.11/dist-packages (from torch->-r requirements.txt (line 1)) (2025.3.0)\n",
            "Requirement already satisfied: nvidia-cuda-nvrtc-cu12==12.4.127 in /usr/local/lib/python3.11/dist-packages (from torch->-r requirements.txt (line 1)) (12.4.127)\n",
            "Requirement already satisfied: nvidia-cuda-runtime-cu12==12.4.127 in /usr/local/lib/python3.11/dist-packages (from torch->-r requirements.txt (line 1)) (12.4.127)\n",
            "Requirement already satisfied: nvidia-cuda-cupti-cu12==12.4.127 in /usr/local/lib/python3.11/dist-packages (from torch->-r requirements.txt (line 1)) (12.4.127)\n",
            "Requirement already satisfied: nvidia-cudnn-cu12==9.1.0.70 in /usr/local/lib/python3.11/dist-packages (from torch->-r requirements.txt (line 1)) (9.1.0.70)\n",
            "Requirement already satisfied: nvidia-cublas-cu12==12.4.5.8 in /usr/local/lib/python3.11/dist-packages (from torch->-r requirements.txt (line 1)) (12.4.5.8)\n",
            "Requirement already satisfied: nvidia-cufft-cu12==11.2.1.3 in /usr/local/lib/python3.11/dist-packages (from torch->-r requirements.txt (line 1)) (11.2.1.3)\n",
            "Requirement already satisfied: nvidia-curand-cu12==10.3.5.147 in /usr/local/lib/python3.11/dist-packages (from torch->-r requirements.txt (line 1)) (10.3.5.147)\n",
            "Requirement already satisfied: nvidia-cusolver-cu12==11.6.1.9 in /usr/local/lib/python3.11/dist-packages (from torch->-r requirements.txt (line 1)) (11.6.1.9)\n",
            "Requirement already satisfied: nvidia-cusparse-cu12==12.3.1.170 in /usr/local/lib/python3.11/dist-packages (from torch->-r requirements.txt (line 1)) (12.3.1.170)\n",
            "Requirement already satisfied: nvidia-cusparselt-cu12==0.6.2 in /usr/local/lib/python3.11/dist-packages (from torch->-r requirements.txt (line 1)) (0.6.2)\n",
            "Requirement already satisfied: nvidia-nccl-cu12==2.21.5 in /usr/local/lib/python3.11/dist-packages (from torch->-r requirements.txt (line 1)) (2.21.5)\n",
            "Requirement already satisfied: nvidia-nvtx-cu12==12.4.127 in /usr/local/lib/python3.11/dist-packages (from torch->-r requirements.txt (line 1)) (12.4.127)\n",
            "Requirement already satisfied: nvidia-nvjitlink-cu12==12.4.127 in /usr/local/lib/python3.11/dist-packages (from torch->-r requirements.txt (line 1)) (12.4.127)\n",
            "Requirement already satisfied: triton==3.2.0 in /usr/local/lib/python3.11/dist-packages (from torch->-r requirements.txt (line 1)) (3.2.0)\n",
            "Requirement already satisfied: sympy==1.13.1 in /usr/local/lib/python3.11/dist-packages (from torch->-r requirements.txt (line 1)) (1.13.1)\n",
            "Requirement already satisfied: mpmath<1.4,>=1.1.0 in /usr/local/lib/python3.11/dist-packages (from sympy==1.13.1->torch->-r requirements.txt (line 1)) (1.3.0)\n",
            "Requirement already satisfied: antlr4-python3-runtime==4.9.* in /usr/local/lib/python3.11/dist-packages (from omegaconf->-r requirements.txt (line 2)) (4.9.3)\n",
            "Requirement already satisfied: PyYAML>=5.1.0 in /usr/local/lib/python3.11/dist-packages (from omegaconf->-r requirements.txt (line 2)) (6.0.2)\n",
            "Requirement already satisfied: packaging>=20.0 in /usr/local/lib/python3.11/dist-packages (from transformers->-r requirements.txt (line 6)) (24.2)\n",
            "Requirement already satisfied: regex!=2019.12.17 in /usr/local/lib/python3.11/dist-packages (from transformers->-r requirements.txt (line 6)) (2024.11.6)\n",
            "Requirement already satisfied: requests in /usr/local/lib/python3.11/dist-packages (from transformers->-r requirements.txt (line 6)) (2.32.3)\n",
            "Requirement already satisfied: tokenizers<0.22,>=0.21 in /usr/local/lib/python3.11/dist-packages (from transformers->-r requirements.txt (line 6)) (0.21.1)\n",
            "Requirement already satisfied: safetensors>=0.4.3 in /usr/local/lib/python3.11/dist-packages (from transformers->-r requirements.txt (line 6)) (0.5.3)\n",
            "Requirement already satisfied: absl-py>=0.4 in /usr/local/lib/python3.11/dist-packages (from tensorboard->-r requirements.txt (line 9)) (1.4.0)\n",
            "Requirement already satisfied: grpcio>=1.48.2 in /usr/local/lib/python3.11/dist-packages (from tensorboard->-r requirements.txt (line 9)) (1.71.0)\n",
            "Requirement already satisfied: markdown>=2.6.8 in /usr/local/lib/python3.11/dist-packages (from tensorboard->-r requirements.txt (line 9)) (3.7)\n",
            "Requirement already satisfied: protobuf!=4.24.0,>=3.19.6 in /usr/local/lib/python3.11/dist-packages (from tensorboard->-r requirements.txt (line 9)) (3.20.3)\n",
            "Requirement already satisfied: setuptools>=41.0.0 in /usr/local/lib/python3.11/dist-packages (from tensorboard->-r requirements.txt (line 9)) (75.1.0)\n",
            "Requirement already satisfied: six>1.9 in /usr/local/lib/python3.11/dist-packages (from tensorboard->-r requirements.txt (line 9)) (1.17.0)\n",
            "Requirement already satisfied: tensorboard-data-server<0.8.0,>=0.7.0 in /usr/local/lib/python3.11/dist-packages (from tensorboard->-r requirements.txt (line 9)) (0.7.2)\n",
            "Requirement already satisfied: werkzeug>=1.0.1 in /usr/local/lib/python3.11/dist-packages (from tensorboard->-r requirements.txt (line 9)) (3.1.3)\n",
            "Requirement already satisfied: argbind in /usr/local/lib/python3.11/dist-packages (from descript-audiotools>=0.7.2->-r requirements.txt (line 10)) (0.3.9)\n",
            "Requirement already satisfied: soundfile in /usr/local/lib/python3.11/dist-packages (from descript-audiotools>=0.7.2->-r requirements.txt (line 10)) (0.13.1)\n",
            "Requirement already satisfied: pyloudnorm in /usr/local/lib/python3.11/dist-packages (from descript-audiotools>=0.7.2->-r requirements.txt (line 10)) (0.1.1)\n",
            "Requirement already satisfied: importlib-resources in /usr/local/lib/python3.11/dist-packages (from descript-audiotools>=0.7.2->-r requirements.txt (line 10)) (6.5.2)\n",
            "Requirement already satisfied: julius in /usr/local/lib/python3.11/dist-packages (from descript-audiotools>=0.7.2->-r requirements.txt (line 10)) (0.2.7)\n",
            "Requirement already satisfied: ffmpy in /usr/local/lib/python3.11/dist-packages (from descript-audiotools>=0.7.2->-r requirements.txt (line 10)) (0.5.0)\n",
            "Requirement already satisfied: ipython in /usr/local/lib/python3.11/dist-packages (from descript-audiotools>=0.7.2->-r requirements.txt (line 10)) (7.34.0)\n",
            "Requirement already satisfied: rich in /usr/local/lib/python3.11/dist-packages (from descript-audiotools>=0.7.2->-r requirements.txt (line 10)) (13.9.4)\n",
            "Requirement already satisfied: matplotlib in /usr/local/lib/python3.11/dist-packages (from descript-audiotools>=0.7.2->-r requirements.txt (line 10)) (3.10.0)\n",
            "Requirement already satisfied: librosa in /usr/local/lib/python3.11/dist-packages (from descript-audiotools>=0.7.2->-r requirements.txt (line 10)) (0.11.0)\n",
            "Requirement already satisfied: pystoi in /usr/local/lib/python3.11/dist-packages (from descript-audiotools>=0.7.2->-r requirements.txt (line 10)) (0.4.1)\n",
            "Requirement already satisfied: torch-stoi in /usr/local/lib/python3.11/dist-packages (from descript-audiotools>=0.7.2->-r requirements.txt (line 10)) (0.2.3)\n",
            "Requirement already satisfied: flatten-dict in /usr/local/lib/python3.11/dist-packages (from descript-audiotools>=0.7.2->-r requirements.txt (line 10)) (0.4.2)\n",
            "Requirement already satisfied: markdown2 in /usr/local/lib/python3.11/dist-packages (from descript-audiotools>=0.7.2->-r requirements.txt (line 10)) (2.5.3)\n",
            "Requirement already satisfied: randomname in /usr/local/lib/python3.11/dist-packages (from descript-audiotools>=0.7.2->-r requirements.txt (line 10)) (0.2.1)\n",
            "Collecting protobuf!=4.24.0,>=3.19.6 (from tensorboard->-r requirements.txt (line 9))\n",
            "  Using cached protobuf-3.19.6-py2.py3-none-any.whl.metadata (828 bytes)\n",
            "Requirement already satisfied: aiofiles<24.0,>=22.0 in /usr/local/lib/python3.11/dist-packages (from gradio->-r requirements.txt (line 14)) (23.2.1)\n",
            "Requirement already satisfied: anyio<5.0,>=3.0 in /usr/local/lib/python3.11/dist-packages (from gradio->-r requirements.txt (line 14)) (4.9.0)\n",
            "Requirement already satisfied: fastapi<1.0,>=0.115.2 in /usr/local/lib/python3.11/dist-packages (from gradio->-r requirements.txt (line 14)) (0.115.11)\n",
            "Requirement already satisfied: gradio-client==1.8.0 in /usr/local/lib/python3.11/dist-packages (from gradio->-r requirements.txt (line 14)) (1.8.0)\n",
            "Requirement already satisfied: groovy~=0.1 in /usr/local/lib/python3.11/dist-packages (from gradio->-r requirements.txt (line 14)) (0.1.2)\n",
            "Requirement already satisfied: httpx>=0.24.1 in /usr/local/lib/python3.11/dist-packages (from gradio->-r requirements.txt (line 14)) (0.28.1)\n",
            "Requirement already satisfied: markupsafe<4.0,>=2.0 in /usr/local/lib/python3.11/dist-packages (from gradio->-r requirements.txt (line 14)) (3.0.2)\n",
            "Requirement already satisfied: orjson~=3.0 in /usr/local/lib/python3.11/dist-packages (from gradio->-r requirements.txt (line 14)) (3.10.15)\n",
            "Requirement already satisfied: pandas<3.0,>=1.0 in /usr/local/lib/python3.11/dist-packages (from gradio->-r requirements.txt (line 14)) (2.2.2)\n",
            "Requirement already satisfied: pillow<12.0,>=8.0 in /usr/local/lib/python3.11/dist-packages (from gradio->-r requirements.txt (line 14)) (11.1.0)\n",
            "Requirement already satisfied: pydantic>=2.0 in /usr/local/lib/python3.11/dist-packages (from gradio->-r requirements.txt (line 14)) (2.10.6)\n",
            "Requirement already satisfied: pydub in /usr/local/lib/python3.11/dist-packages (from gradio->-r requirements.txt (line 14)) (0.25.1)\n",
            "Requirement already satisfied: python-multipart>=0.0.18 in /usr/local/lib/python3.11/dist-packages (from gradio->-r requirements.txt (line 14)) (0.0.20)\n",
            "Requirement already satisfied: ruff>=0.9.3 in /usr/local/lib/python3.11/dist-packages (from gradio->-r requirements.txt (line 14)) (0.11.2)\n",
            "Requirement already satisfied: safehttpx<0.2.0,>=0.1.6 in /usr/local/lib/python3.11/dist-packages (from gradio->-r requirements.txt (line 14)) (0.1.6)\n",
            "Requirement already satisfied: semantic-version~=2.0 in /usr/local/lib/python3.11/dist-packages (from gradio->-r requirements.txt (line 14)) (2.10.0)\n",
            "Requirement already satisfied: starlette<1.0,>=0.40.0 in /usr/local/lib/python3.11/dist-packages (from gradio->-r requirements.txt (line 14)) (0.46.1)\n",
            "Requirement already satisfied: tomlkit<0.14.0,>=0.12.0 in /usr/local/lib/python3.11/dist-packages (from gradio->-r requirements.txt (line 14)) (0.13.2)\n",
            "Requirement already satisfied: typer<1.0,>=0.12 in /usr/local/lib/python3.11/dist-packages (from gradio->-r requirements.txt (line 14)) (0.15.2)\n",
            "Requirement already satisfied: uvicorn>=0.14.0 in /usr/local/lib/python3.11/dist-packages (from gradio->-r requirements.txt (line 14)) (0.34.0)\n",
            "Requirement already satisfied: websockets<16.0,>=10.0 in /usr/local/lib/python3.11/dist-packages (from gradio-client==1.8.0->gradio->-r requirements.txt (line 14)) (14.2)\n",
            "Requirement already satisfied: idna>=2.8 in /usr/local/lib/python3.11/dist-packages (from anyio<5.0,>=3.0->gradio->-r requirements.txt (line 14)) (3.10)\n",
            "Requirement already satisfied: sniffio>=1.1 in /usr/local/lib/python3.11/dist-packages (from anyio<5.0,>=3.0->gradio->-r requirements.txt (line 14)) (1.3.1)\n",
            "Requirement already satisfied: docstring-parser in /usr/local/lib/python3.11/dist-packages (from argbind->descript-audiotools>=0.7.2->-r requirements.txt (line 10)) (0.16)\n",
            "Requirement already satisfied: certifi in /usr/local/lib/python3.11/dist-packages (from httpx>=0.24.1->gradio->-r requirements.txt (line 14)) (2025.1.31)\n",
            "Requirement already satisfied: httpcore==1.* in /usr/local/lib/python3.11/dist-packages (from httpx>=0.24.1->gradio->-r requirements.txt (line 14)) (1.0.7)\n",
            "Requirement already satisfied: h11<0.15,>=0.13 in /usr/local/lib/python3.11/dist-packages (from httpcore==1.*->httpx>=0.24.1->gradio->-r requirements.txt (line 14)) (0.14.0)\n",
            "Requirement already satisfied: python-dateutil>=2.8.2 in /usr/local/lib/python3.11/dist-packages (from pandas<3.0,>=1.0->gradio->-r requirements.txt (line 14)) (2.8.2)\n",
            "Requirement already satisfied: pytz>=2020.1 in /usr/local/lib/python3.11/dist-packages (from pandas<3.0,>=1.0->gradio->-r requirements.txt (line 14)) (2025.1)\n",
            "Requirement already satisfied: tzdata>=2022.7 in /usr/local/lib/python3.11/dist-packages (from pandas<3.0,>=1.0->gradio->-r requirements.txt (line 14)) (2025.1)\n",
            "Requirement already satisfied: annotated-types>=0.6.0 in /usr/local/lib/python3.11/dist-packages (from pydantic>=2.0->gradio->-r requirements.txt (line 14)) (0.7.0)\n",
            "Requirement already satisfied: pydantic-core==2.27.2 in /usr/local/lib/python3.11/dist-packages (from pydantic>=2.0->gradio->-r requirements.txt (line 14)) (2.27.2)\n",
            "Requirement already satisfied: click>=8.0.0 in /usr/local/lib/python3.11/dist-packages (from typer<1.0,>=0.12->gradio->-r requirements.txt (line 14)) (8.1.8)\n",
            "Requirement already satisfied: shellingham>=1.3.0 in /usr/local/lib/python3.11/dist-packages (from typer<1.0,>=0.12->gradio->-r requirements.txt (line 14)) (1.5.4)\n",
            "Requirement already satisfied: markdown-it-py>=2.2.0 in /usr/local/lib/python3.11/dist-packages (from rich->descript-audiotools>=0.7.2->-r requirements.txt (line 10)) (3.0.0)\n",
            "Requirement already satisfied: pygments<3.0.0,>=2.13.0 in /usr/local/lib/python3.11/dist-packages (from rich->descript-audiotools>=0.7.2->-r requirements.txt (line 10)) (2.18.0)\n",
            "Requirement already satisfied: jedi>=0.16 in /usr/local/lib/python3.11/dist-packages (from ipython->descript-audiotools>=0.7.2->-r requirements.txt (line 10)) (0.19.2)\n",
            "Requirement already satisfied: decorator in /usr/local/lib/python3.11/dist-packages (from ipython->descript-audiotools>=0.7.2->-r requirements.txt (line 10)) (4.4.2)\n",
            "Requirement already satisfied: pickleshare in /usr/local/lib/python3.11/dist-packages (from ipython->descript-audiotools>=0.7.2->-r requirements.txt (line 10)) (0.7.5)\n",
            "Requirement already satisfied: traitlets>=4.2 in /usr/local/lib/python3.11/dist-packages (from ipython->descript-audiotools>=0.7.2->-r requirements.txt (line 10)) (5.7.1)\n",
            "Requirement already satisfied: prompt-toolkit!=3.0.0,!=3.0.1,<3.1.0,>=2.0.0 in /usr/local/lib/python3.11/dist-packages (from ipython->descript-audiotools>=0.7.2->-r requirements.txt (line 10)) (3.0.50)\n",
            "Requirement already satisfied: backcall in /usr/local/lib/python3.11/dist-packages (from ipython->descript-audiotools>=0.7.2->-r requirements.txt (line 10)) (0.2.0)\n",
            "Requirement already satisfied: matplotlib-inline in /usr/local/lib/python3.11/dist-packages (from ipython->descript-audiotools>=0.7.2->-r requirements.txt (line 10)) (0.1.7)\n",
            "Requirement already satisfied: pexpect>4.3 in /usr/local/lib/python3.11/dist-packages (from ipython->descript-audiotools>=0.7.2->-r requirements.txt (line 10)) (4.9.0)\n",
            "Requirement already satisfied: audioread>=2.1.9 in /usr/local/lib/python3.11/dist-packages (from librosa->descript-audiotools>=0.7.2->-r requirements.txt (line 10)) (3.0.1)\n",
            "Requirement already satisfied: numba>=0.51.0 in /usr/local/lib/python3.11/dist-packages (from librosa->descript-audiotools>=0.7.2->-r requirements.txt (line 10)) (0.60.0)\n",
            "Requirement already satisfied: scikit-learn>=1.1.0 in /usr/local/lib/python3.11/dist-packages (from librosa->descript-audiotools>=0.7.2->-r requirements.txt (line 10)) (1.6.1)\n",
            "Requirement already satisfied: joblib>=1.0 in /usr/local/lib/python3.11/dist-packages (from librosa->descript-audiotools>=0.7.2->-r requirements.txt (line 10)) (1.4.2)\n",
            "Requirement already satisfied: pooch>=1.1 in /usr/local/lib/python3.11/dist-packages (from librosa->descript-audiotools>=0.7.2->-r requirements.txt (line 10)) (1.8.2)\n",
            "Requirement already satisfied: soxr>=0.3.2 in /usr/local/lib/python3.11/dist-packages (from librosa->descript-audiotools>=0.7.2->-r requirements.txt (line 10)) (0.5.0.post1)\n",
            "Requirement already satisfied: lazy_loader>=0.1 in /usr/local/lib/python3.11/dist-packages (from librosa->descript-audiotools>=0.7.2->-r requirements.txt (line 10)) (0.4)\n",
            "Requirement already satisfied: msgpack>=1.0 in /usr/local/lib/python3.11/dist-packages (from librosa->descript-audiotools>=0.7.2->-r requirements.txt (line 10)) (1.1.0)\n",
            "Requirement already satisfied: cffi>=1.0 in /usr/local/lib/python3.11/dist-packages (from soundfile->descript-audiotools>=0.7.2->-r requirements.txt (line 10)) (1.17.1)\n",
            "Requirement already satisfied: contourpy>=1.0.1 in /usr/local/lib/python3.11/dist-packages (from matplotlib->descript-audiotools>=0.7.2->-r requirements.txt (line 10)) (1.3.1)\n",
            "Requirement already satisfied: cycler>=0.10 in /usr/local/lib/python3.11/dist-packages (from matplotlib->descript-audiotools>=0.7.2->-r requirements.txt (line 10)) (0.12.1)\n",
            "Requirement already satisfied: fonttools>=4.22.0 in /usr/local/lib/python3.11/dist-packages (from matplotlib->descript-audiotools>=0.7.2->-r requirements.txt (line 10)) (4.56.0)\n",
            "Requirement already satisfied: kiwisolver>=1.3.1 in /usr/local/lib/python3.11/dist-packages (from matplotlib->descript-audiotools>=0.7.2->-r requirements.txt (line 10)) (1.4.8)\n",
            "Requirement already satisfied: pyparsing>=2.3.1 in /usr/local/lib/python3.11/dist-packages (from matplotlib->descript-audiotools>=0.7.2->-r requirements.txt (line 10)) (3.2.1)\n",
            "Requirement already satisfied: future>=0.16.0 in /usr/local/lib/python3.11/dist-packages (from pyloudnorm->descript-audiotools>=0.7.2->-r requirements.txt (line 10)) (1.0.0)\n",
            "Requirement already satisfied: fire in /usr/local/lib/python3.11/dist-packages (from randomname->descript-audiotools>=0.7.2->-r requirements.txt (line 10)) (0.7.0)\n",
            "Requirement already satisfied: charset-normalizer<4,>=2 in /usr/local/lib/python3.11/dist-packages (from requests->transformers->-r requirements.txt (line 6)) (3.4.1)\n",
            "Requirement already satisfied: urllib3<3,>=1.21.1 in /usr/local/lib/python3.11/dist-packages (from requests->transformers->-r requirements.txt (line 6)) (2.3.0)\n",
            "Requirement already satisfied: pycparser in /usr/local/lib/python3.11/dist-packages (from cffi>=1.0->soundfile->descript-audiotools>=0.7.2->-r requirements.txt (line 10)) (2.22)\n",
            "Requirement already satisfied: parso<0.9.0,>=0.8.4 in /usr/local/lib/python3.11/dist-packages (from jedi>=0.16->ipython->descript-audiotools>=0.7.2->-r requirements.txt (line 10)) (0.8.4)\n",
            "Requirement already satisfied: mdurl~=0.1 in /usr/local/lib/python3.11/dist-packages (from markdown-it-py>=2.2.0->rich->descript-audiotools>=0.7.2->-r requirements.txt (line 10)) (0.1.2)\n",
            "Requirement already satisfied: llvmlite<0.44,>=0.43.0dev0 in /usr/local/lib/python3.11/dist-packages (from numba>=0.51.0->librosa->descript-audiotools>=0.7.2->-r requirements.txt (line 10)) (0.43.0)\n",
            "Requirement already satisfied: ptyprocess>=0.5 in /usr/local/lib/python3.11/dist-packages (from pexpect>4.3->ipython->descript-audiotools>=0.7.2->-r requirements.txt (line 10)) (0.7.0)\n",
            "Requirement already satisfied: platformdirs>=2.5.0 in /usr/local/lib/python3.11/dist-packages (from pooch>=1.1->librosa->descript-audiotools>=0.7.2->-r requirements.txt (line 10)) (4.3.6)\n",
            "Requirement already satisfied: wcwidth in /usr/local/lib/python3.11/dist-packages (from prompt-toolkit!=3.0.0,!=3.0.1,<3.1.0,>=2.0.0->ipython->descript-audiotools>=0.7.2->-r requirements.txt (line 10)) (0.2.13)\n",
            "Requirement already satisfied: threadpoolctl>=3.1.0 in /usr/local/lib/python3.11/dist-packages (from scikit-learn>=1.1.0->librosa->descript-audiotools>=0.7.2->-r requirements.txt (line 10)) (3.6.0)\n",
            "Requirement already satisfied: termcolor in /usr/local/lib/python3.11/dist-packages (from fire->randomname->descript-audiotools>=0.7.2->-r requirements.txt (line 10)) (2.5.0)\n",
            "Using cached protobuf-3.19.6-py2.py3-none-any.whl (162 kB)\n",
            "Installing collected packages: protobuf\n",
            "  Attempting uninstall: protobuf\n",
            "    Found existing installation: protobuf 3.20.3\n",
            "    Uninstalling protobuf-3.20.3:\n",
            "      Successfully uninstalled protobuf-3.20.3\n",
            "\u001b[31mERROR: pip's dependency resolver does not currently take into account all the packages that are installed. This behaviour is the source of the following dependency conflicts.\n",
            "google-cloud-aiplatform 1.84.0 requires google-auth<3.0.0dev,>=2.14.1, which is not installed.\n",
            "google-cloud-aiplatform 1.84.0 requires google-cloud-storage<3.0.0dev,>=1.32.0, which is not installed.\n",
            "google-api-core 2.24.2 requires google-auth<3.0.0,>=2.14.1, which is not installed.\n",
            "google-api-python-client 2.164.0 requires google-auth!=2.24.0,!=2.25.0,<3.0.0.dev0,>=1.32.0, which is not installed.\n",
            "google-cloud-firestore 2.20.1 requires google-auth!=2.24.0,!=2.25.0,<3.0.0dev,>=2.14.1, which is not installed.\n",
            "google-cloud-functions 1.20.2 requires google-auth!=2.24.0,!=2.25.0,<3.0.0,>=2.14.1, which is not installed.\n",
            "pandas-gbq 0.28.0 requires google-auth>=2.13.0, which is not installed.\n",
            "google-cloud-dataproc 5.18.1 requires google-auth!=2.24.0,!=2.25.0,<3.0.0,>=2.14.1, which is not installed.\n",
            "google-cloud-pubsub 2.28.0 requires google-auth<3.0.0dev,>=2.14.1, which is not installed.\n",
            "google-cloud-bigtable 2.29.0 requires google-auth!=2.24.0,!=2.25.0,<3.0.0dev,>=2.14.1, which is not installed.\n",
            "google-generativeai 0.8.4 requires google-auth>=2.15.0, which is not installed.\n",
            "google-cloud-translate 3.20.2 requires google-auth!=2.24.0,!=2.25.0,<3.0.0,>=2.14.1, which is not installed.\n",
            "google-ai-generativelanguage 0.6.15 requires google-auth!=2.24.0,!=2.25.0,<3.0.0dev,>=2.14.1, which is not installed.\n",
            "google-cloud-bigquery-connection 1.18.2 requires google-auth!=2.24.0,!=2.25.0,<3.0.0,>=2.14.1, which is not installed.\n",
            "google-cloud-language 2.17.1 requires google-auth!=2.24.0,!=2.25.0,<3.0.0,>=2.14.1, which is not installed.\n",
            "google-cloud-datastore 2.20.2 requires google-auth!=2.24.0,!=2.25.0,<3.0.0dev,>=2.14.1, which is not installed.\n",
            "google-cloud-bigquery 3.29.0 requires google-auth<3.0.0dev,>=2.14.1, which is not installed.\n",
            "google-cloud-resource-manager 1.14.2 requires google-auth!=2.24.0,!=2.25.0,<3.0.0,>=2.14.1, which is not installed.\n",
            "google-cloud-iam 2.18.2 requires google-auth!=2.24.0,!=2.25.0,<3.0.0,>=2.14.1, which is not installed.\n",
            "earthengine-api 1.5.7 requires google-auth>=1.4.1, which is not installed.\n",
            "earthengine-api 1.5.7 requires google-cloud-storage, which is not installed.\n",
            "google-cloud-core 2.4.3 requires google-auth<3.0dev,>=1.25.0, which is not installed.\n",
            "firebase-admin 6.7.0 requires google-cloud-storage>=1.37.1, which is not installed.\n",
            "google-cloud-bigquery-storage 2.29.1 requires google-auth<3.0.0,>=2.14.1, which is not installed.\n",
            "tensorflow 2.19.0 requires protobuf!=4.21.0,!=4.21.1,!=4.21.2,!=4.21.3,!=4.21.4,!=4.21.5,<6.0.0dev,>=3.20.3, but you have protobuf 3.19.6 which is incompatible.\n",
            "grpc-google-iam-v1 0.14.2 requires protobuf!=4.21.1,!=4.21.2,!=4.21.3,!=4.21.4,!=4.21.5,<7.0.0,>=3.20.2, but you have protobuf 3.19.6 which is incompatible.\n",
            "google-cloud-aiplatform 1.84.0 requires protobuf!=4.21.0,!=4.21.1,!=4.21.2,!=4.21.3,!=4.21.4,!=4.21.5,<6.0.0dev,>=3.20.2, but you have protobuf 3.19.6 which is incompatible.\n",
            "google-cloud-firestore 2.20.1 requires protobuf!=3.20.0,!=3.20.1,!=4.21.0,!=4.21.1,!=4.21.2,!=4.21.3,!=4.21.4,!=4.21.5,<6.0.0dev,>=3.20.2, but you have protobuf 3.19.6 which is incompatible.\n",
            "google-cloud-functions 1.20.2 requires protobuf!=4.21.0,!=4.21.1,!=4.21.2,!=4.21.3,!=4.21.4,!=4.21.5,<7.0.0,>=3.20.2, but you have protobuf 3.19.6 which is incompatible.\n",
            "google-cloud-dataproc 5.18.1 requires protobuf!=4.21.0,!=4.21.1,!=4.21.2,!=4.21.3,!=4.21.4,!=4.21.5,<7.0.0,>=3.20.2, but you have protobuf 3.19.6 which is incompatible.\n",
            "google-cloud-pubsub 2.28.0 requires protobuf!=4.21.0,!=4.21.1,!=4.21.2,!=4.21.3,!=4.21.4,!=4.21.5,<6.0.0dev,>=3.20.2, but you have protobuf 3.19.6 which is incompatible.\n",
            "google-cloud-bigtable 2.29.0 requires protobuf!=4.21.0,!=4.21.1,!=4.21.2,!=4.21.3,!=4.21.4,!=4.21.5,<6.0.0dev,>=3.20.2, but you have protobuf 3.19.6 which is incompatible.\n",
            "tensorflow-metadata 1.16.1 requires protobuf<6.0.0dev,>=4.25.2; python_version >= \"3.11\", but you have protobuf 3.19.6 which is incompatible.\n",
            "tensorflow-datasets 4.9.8 requires protobuf>=3.20, but you have protobuf 3.19.6 which is incompatible.\n",
            "google-cloud-translate 3.20.2 requires protobuf!=4.21.0,!=4.21.1,!=4.21.2,!=4.21.3,!=4.21.4,!=4.21.5,<7.0.0,>=3.20.2, but you have protobuf 3.19.6 which is incompatible.\n",
            "google-ai-generativelanguage 0.6.15 requires protobuf!=4.21.0,!=4.21.1,!=4.21.2,!=4.21.3,!=4.21.4,!=4.21.5,<6.0.0dev,>=3.20.2, but you have protobuf 3.19.6 which is incompatible.\n",
            "google-cloud-bigquery-connection 1.18.2 requires protobuf!=4.21.0,!=4.21.1,!=4.21.2,!=4.21.3,!=4.21.4,!=4.21.5,<7.0.0,>=3.20.2, but you have protobuf 3.19.6 which is incompatible.\n",
            "tf-keras 2.18.0 requires tensorflow<2.19,>=2.18, but you have tensorflow 2.19.0 which is incompatible.\n",
            "google-cloud-language 2.17.1 requires protobuf!=4.21.0,!=4.21.1,!=4.21.2,!=4.21.3,!=4.21.4,!=4.21.5,<7.0.0,>=3.20.2, but you have protobuf 3.19.6 which is incompatible.\n",
            "google-cloud-datastore 2.20.2 requires protobuf!=3.20.0,!=3.20.1,!=4.21.0,!=4.21.1,!=4.21.2,!=4.21.3,!=4.21.4,!=4.21.5,<6.0.0dev,>=3.20.2, but you have protobuf 3.19.6 which is incompatible.\n",
            "google-cloud-spanner 3.53.0 requires protobuf!=4.21.0,!=4.21.1,!=4.21.2,!=4.21.3,!=4.21.4,!=4.21.5,<7.0.0,>=3.20.2, but you have protobuf 3.19.6 which is incompatible.\n",
            "google-cloud-resource-manager 1.14.2 requires protobuf!=4.21.0,!=4.21.1,!=4.21.2,!=4.21.3,!=4.21.4,!=4.21.5,<7.0.0,>=3.20.2, but you have protobuf 3.19.6 which is incompatible.\n",
            "grpcio-status 1.71.0 requires protobuf<6.0dev,>=5.26.1, but you have protobuf 3.19.6 which is incompatible.\n",
            "tensorflow-text 2.18.1 requires tensorflow<2.19,>=2.18.0, but you have tensorflow 2.19.0 which is incompatible.\n",
            "google-cloud-iam 2.18.2 requires protobuf!=4.21.0,!=4.21.1,!=4.21.2,!=4.21.3,!=4.21.4,!=4.21.5,<7.0.0,>=3.20.2, but you have protobuf 3.19.6 which is incompatible.\n",
            "googleapis-common-protos 1.69.2 requires protobuf!=4.21.1,!=4.21.2,!=4.21.3,!=4.21.4,!=4.21.5,<7.0.0,>=3.20.2, but you have protobuf 3.19.6 which is incompatible.\n",
            "google-cloud-bigquery-storage 2.29.1 requires protobuf!=3.20.0,!=3.20.1,!=4.21.0,!=4.21.1,!=4.21.2,!=4.21.3,!=4.21.4,!=4.21.5,<7.0.0,>=3.20.2, but you have protobuf 3.19.6 which is incompatible.\u001b[0m\u001b[31m\n",
            "\u001b[0mSuccessfully installed protobuf-3.19.6\n"
          ]
        },
        {
          "output_type": "display_data",
          "data": {
            "application/vnd.colab-display-data+json": {
              "pip_warning": {
                "packages": [
                  "google"
                ]
              },
              "id": "6106761aa9cd44f0a593b0ccd3971fee"
            }
          },
          "metadata": {}
        },
        {
          "output_type": "stream",
          "name": "stdout",
          "text": [
            "Found existing installation: flash_attn 2.7.4.post1\n",
            "Uninstalling flash_attn-2.7.4.post1:\n",
            "  Successfully uninstalled flash_attn-2.7.4.post1\n",
            "\u001b[33mWARNING: Skipping flash-attn2 as it is not installed.\u001b[0m\u001b[33m\n",
            "\u001b[0m\u001b[33mWARNING: Skipping flash_attention as it is not installed.\u001b[0m\u001b[33m\n",
            "\u001b[0mfatal: destination path 'xcodec_mini_infer' already exists and is not an empty directory.\n",
            "Collecting protobuf==3.20.3\n",
            "  Using cached protobuf-3.20.3-py2.py3-none-any.whl.metadata (720 bytes)\n",
            "Using cached protobuf-3.20.3-py2.py3-none-any.whl (162 kB)\n",
            "Installing collected packages: protobuf\n",
            "  Attempting uninstall: protobuf\n",
            "    Found existing installation: protobuf 3.19.6\n",
            "    Uninstalling protobuf-3.19.6:\n",
            "      Successfully uninstalled protobuf-3.19.6\n",
            "\u001b[31mERROR: pip's dependency resolver does not currently take into account all the packages that are installed. This behaviour is the source of the following dependency conflicts.\n",
            "google-cloud-aiplatform 1.84.0 requires google-auth<3.0.0dev,>=2.14.1, which is not installed.\n",
            "google-cloud-aiplatform 1.84.0 requires google-cloud-storage<3.0.0dev,>=1.32.0, which is not installed.\n",
            "google-api-core 2.24.2 requires google-auth<3.0.0,>=2.14.1, which is not installed.\n",
            "google-api-python-client 2.164.0 requires google-auth!=2.24.0,!=2.25.0,<3.0.0.dev0,>=1.32.0, which is not installed.\n",
            "google-cloud-firestore 2.20.1 requires google-auth!=2.24.0,!=2.25.0,<3.0.0dev,>=2.14.1, which is not installed.\n",
            "google-cloud-functions 1.20.2 requires google-auth!=2.24.0,!=2.25.0,<3.0.0,>=2.14.1, which is not installed.\n",
            "pandas-gbq 0.28.0 requires google-auth>=2.13.0, which is not installed.\n",
            "google-cloud-dataproc 5.18.1 requires google-auth!=2.24.0,!=2.25.0,<3.0.0,>=2.14.1, which is not installed.\n",
            "google-cloud-pubsub 2.28.0 requires google-auth<3.0.0dev,>=2.14.1, which is not installed.\n",
            "google-cloud-bigtable 2.29.0 requires google-auth!=2.24.0,!=2.25.0,<3.0.0dev,>=2.14.1, which is not installed.\n",
            "google-generativeai 0.8.4 requires google-auth>=2.15.0, which is not installed.\n",
            "google-cloud-translate 3.20.2 requires google-auth!=2.24.0,!=2.25.0,<3.0.0,>=2.14.1, which is not installed.\n",
            "google-ai-generativelanguage 0.6.15 requires google-auth!=2.24.0,!=2.25.0,<3.0.0dev,>=2.14.1, which is not installed.\n",
            "google-cloud-bigquery-connection 1.18.2 requires google-auth!=2.24.0,!=2.25.0,<3.0.0,>=2.14.1, which is not installed.\n",
            "google-cloud-language 2.17.1 requires google-auth!=2.24.0,!=2.25.0,<3.0.0,>=2.14.1, which is not installed.\n",
            "google-cloud-datastore 2.20.2 requires google-auth!=2.24.0,!=2.25.0,<3.0.0dev,>=2.14.1, which is not installed.\n",
            "google-cloud-bigquery 3.29.0 requires google-auth<3.0.0dev,>=2.14.1, which is not installed.\n",
            "google-cloud-resource-manager 1.14.2 requires google-auth!=2.24.0,!=2.25.0,<3.0.0,>=2.14.1, which is not installed.\n",
            "google-cloud-iam 2.18.2 requires google-auth!=2.24.0,!=2.25.0,<3.0.0,>=2.14.1, which is not installed.\n",
            "earthengine-api 1.5.7 requires google-auth>=1.4.1, which is not installed.\n",
            "earthengine-api 1.5.7 requires google-cloud-storage, which is not installed.\n",
            "google-cloud-core 2.4.3 requires google-auth<3.0dev,>=1.25.0, which is not installed.\n",
            "firebase-admin 6.7.0 requires google-cloud-storage>=1.37.1, which is not installed.\n",
            "google-cloud-bigquery-storage 2.29.1 requires google-auth<3.0.0,>=2.14.1, which is not installed.\n",
            "descript-audiotools 0.7.2 requires protobuf<3.20,>=3.9.2, but you have protobuf 3.20.3 which is incompatible.\n",
            "tensorflow-metadata 1.16.1 requires protobuf<6.0.0dev,>=4.25.2; python_version >= \"3.11\", but you have protobuf 3.20.3 which is incompatible.\n",
            "tf-keras 2.18.0 requires tensorflow<2.19,>=2.18, but you have tensorflow 2.19.0 which is incompatible.\n",
            "grpcio-status 1.71.0 requires protobuf<6.0dev,>=5.26.1, but you have protobuf 3.20.3 which is incompatible.\n",
            "tensorflow-text 2.18.1 requires tensorflow<2.19,>=2.18.0, but you have tensorflow 2.19.0 which is incompatible.\u001b[0m\u001b[31m\n",
            "\u001b[0mSuccessfully installed protobuf-3.20.3\n"
          ]
        },
        {
          "output_type": "display_data",
          "data": {
            "application/vnd.colab-display-data+json": {
              "pip_warning": {
                "packages": [
                  "google"
                ]
              },
              "id": "045104cbfe9d43e78e34e6943f794128"
            }
          },
          "metadata": {}
        },
        {
          "output_type": "stream",
          "name": "stdout",
          "text": [
            "Requirement already satisfied: transformers in /usr/local/lib/python3.11/dist-packages (4.50.0)\n",
            "Requirement already satisfied: tensorflow in /usr/local/lib/python3.11/dist-packages (2.19.0)\n",
            "Requirement already satisfied: torch in /usr/local/lib/python3.11/dist-packages (2.6.0)\n",
            "Requirement already satisfied: torchvision in /usr/local/lib/python3.11/dist-packages (0.21.0)\n",
            "Requirement already satisfied: torchaudio in /usr/local/lib/python3.11/dist-packages (2.6.0)\n",
            "Requirement already satisfied: filelock in /usr/local/lib/python3.11/dist-packages (from transformers) (3.18.0)\n",
            "Requirement already satisfied: huggingface-hub<1.0,>=0.26.0 in /usr/local/lib/python3.11/dist-packages (from transformers) (0.29.3)\n",
            "Requirement already satisfied: numpy>=1.17 in /usr/local/lib/python3.11/dist-packages (from transformers) (2.0.2)\n",
            "Requirement already satisfied: packaging>=20.0 in /usr/local/lib/python3.11/dist-packages (from transformers) (24.2)\n",
            "Requirement already satisfied: pyyaml>=5.1 in /usr/local/lib/python3.11/dist-packages (from transformers) (6.0.2)\n",
            "Requirement already satisfied: regex!=2019.12.17 in /usr/local/lib/python3.11/dist-packages (from transformers) (2024.11.6)\n",
            "Requirement already satisfied: requests in /usr/local/lib/python3.11/dist-packages (from transformers) (2.32.3)\n",
            "Requirement already satisfied: tokenizers<0.22,>=0.21 in /usr/local/lib/python3.11/dist-packages (from transformers) (0.21.1)\n",
            "Requirement already satisfied: safetensors>=0.4.3 in /usr/local/lib/python3.11/dist-packages (from transformers) (0.5.3)\n",
            "Requirement already satisfied: tqdm>=4.27 in /usr/local/lib/python3.11/dist-packages (from transformers) (4.67.1)\n",
            "Requirement already satisfied: absl-py>=1.0.0 in /usr/local/lib/python3.11/dist-packages (from tensorflow) (1.4.0)\n",
            "Requirement already satisfied: astunparse>=1.6.0 in /usr/local/lib/python3.11/dist-packages (from tensorflow) (1.6.3)\n",
            "Requirement already satisfied: flatbuffers>=24.3.25 in /usr/local/lib/python3.11/dist-packages (from tensorflow) (25.2.10)\n",
            "Requirement already satisfied: gast!=0.5.0,!=0.5.1,!=0.5.2,>=0.2.1 in /usr/local/lib/python3.11/dist-packages (from tensorflow) (0.6.0)\n",
            "Requirement already satisfied: google-pasta>=0.1.1 in /usr/local/lib/python3.11/dist-packages (from tensorflow) (0.2.0)\n",
            "Requirement already satisfied: libclang>=13.0.0 in /usr/local/lib/python3.11/dist-packages (from tensorflow) (18.1.1)\n",
            "Requirement already satisfied: opt-einsum>=2.3.2 in /usr/local/lib/python3.11/dist-packages (from tensorflow) (3.4.0)\n",
            "Requirement already satisfied: protobuf!=4.21.0,!=4.21.1,!=4.21.2,!=4.21.3,!=4.21.4,!=4.21.5,<6.0.0dev,>=3.20.3 in /usr/local/lib/python3.11/dist-packages (from tensorflow) (3.20.3)\n",
            "Requirement already satisfied: setuptools in /usr/local/lib/python3.11/dist-packages (from tensorflow) (75.1.0)\n",
            "Requirement already satisfied: six>=1.12.0 in /usr/local/lib/python3.11/dist-packages (from tensorflow) (1.17.0)\n",
            "Requirement already satisfied: termcolor>=1.1.0 in /usr/local/lib/python3.11/dist-packages (from tensorflow) (2.5.0)\n",
            "Requirement already satisfied: typing-extensions>=3.6.6 in /usr/local/lib/python3.11/dist-packages (from tensorflow) (4.12.2)\n",
            "Requirement already satisfied: wrapt>=1.11.0 in /usr/local/lib/python3.11/dist-packages (from tensorflow) (1.17.2)\n",
            "Requirement already satisfied: grpcio<2.0,>=1.24.3 in /usr/local/lib/python3.11/dist-packages (from tensorflow) (1.71.0)\n",
            "Requirement already satisfied: tensorboard~=2.19.0 in /usr/local/lib/python3.11/dist-packages (from tensorflow) (2.19.0)\n",
            "Requirement already satisfied: keras>=3.5.0 in /usr/local/lib/python3.11/dist-packages (from tensorflow) (3.8.0)\n",
            "Requirement already satisfied: h5py>=3.11.0 in /usr/local/lib/python3.11/dist-packages (from tensorflow) (3.13.0)\n",
            "Requirement already satisfied: ml-dtypes<1.0.0,>=0.5.1 in /usr/local/lib/python3.11/dist-packages (from tensorflow) (0.5.1)\n",
            "Requirement already satisfied: tensorflow-io-gcs-filesystem>=0.23.1 in /usr/local/lib/python3.11/dist-packages (from tensorflow) (0.37.1)\n",
            "Requirement already satisfied: networkx in /usr/local/lib/python3.11/dist-packages (from torch) (3.4.2)\n",
            "Requirement already satisfied: jinja2 in /usr/local/lib/python3.11/dist-packages (from torch) (3.1.6)\n",
            "Requirement already satisfied: fsspec in /usr/local/lib/python3.11/dist-packages (from torch) (2025.3.0)\n",
            "Requirement already satisfied: nvidia-cuda-nvrtc-cu12==12.4.127 in /usr/local/lib/python3.11/dist-packages (from torch) (12.4.127)\n",
            "Requirement already satisfied: nvidia-cuda-runtime-cu12==12.4.127 in /usr/local/lib/python3.11/dist-packages (from torch) (12.4.127)\n",
            "Requirement already satisfied: nvidia-cuda-cupti-cu12==12.4.127 in /usr/local/lib/python3.11/dist-packages (from torch) (12.4.127)\n",
            "Requirement already satisfied: nvidia-cudnn-cu12==9.1.0.70 in /usr/local/lib/python3.11/dist-packages (from torch) (9.1.0.70)\n",
            "Requirement already satisfied: nvidia-cublas-cu12==12.4.5.8 in /usr/local/lib/python3.11/dist-packages (from torch) (12.4.5.8)\n",
            "Requirement already satisfied: nvidia-cufft-cu12==11.2.1.3 in /usr/local/lib/python3.11/dist-packages (from torch) (11.2.1.3)\n",
            "Requirement already satisfied: nvidia-curand-cu12==10.3.5.147 in /usr/local/lib/python3.11/dist-packages (from torch) (10.3.5.147)\n",
            "Requirement already satisfied: nvidia-cusolver-cu12==11.6.1.9 in /usr/local/lib/python3.11/dist-packages (from torch) (11.6.1.9)\n",
            "Requirement already satisfied: nvidia-cusparse-cu12==12.3.1.170 in /usr/local/lib/python3.11/dist-packages (from torch) (12.3.1.170)\n",
            "Requirement already satisfied: nvidia-cusparselt-cu12==0.6.2 in /usr/local/lib/python3.11/dist-packages (from torch) (0.6.2)\n",
            "Requirement already satisfied: nvidia-nccl-cu12==2.21.5 in /usr/local/lib/python3.11/dist-packages (from torch) (2.21.5)\n",
            "Requirement already satisfied: nvidia-nvtx-cu12==12.4.127 in /usr/local/lib/python3.11/dist-packages (from torch) (12.4.127)\n",
            "Requirement already satisfied: nvidia-nvjitlink-cu12==12.4.127 in /usr/local/lib/python3.11/dist-packages (from torch) (12.4.127)\n",
            "Requirement already satisfied: triton==3.2.0 in /usr/local/lib/python3.11/dist-packages (from torch) (3.2.0)\n",
            "Requirement already satisfied: sympy==1.13.1 in /usr/local/lib/python3.11/dist-packages (from torch) (1.13.1)\n",
            "Requirement already satisfied: mpmath<1.4,>=1.1.0 in /usr/local/lib/python3.11/dist-packages (from sympy==1.13.1->torch) (1.3.0)\n",
            "Requirement already satisfied: pillow!=8.3.*,>=5.3.0 in /usr/local/lib/python3.11/dist-packages (from torchvision) (11.1.0)\n",
            "Requirement already satisfied: wheel<1.0,>=0.23.0 in /usr/local/lib/python3.11/dist-packages (from astunparse>=1.6.0->tensorflow) (0.45.1)\n",
            "Requirement already satisfied: rich in /usr/local/lib/python3.11/dist-packages (from keras>=3.5.0->tensorflow) (13.9.4)\n",
            "Requirement already satisfied: namex in /usr/local/lib/python3.11/dist-packages (from keras>=3.5.0->tensorflow) (0.0.8)\n",
            "Requirement already satisfied: optree in /usr/local/lib/python3.11/dist-packages (from keras>=3.5.0->tensorflow) (0.14.1)\n",
            "Requirement already satisfied: charset-normalizer<4,>=2 in /usr/local/lib/python3.11/dist-packages (from requests->transformers) (3.4.1)\n",
            "Requirement already satisfied: idna<4,>=2.5 in /usr/local/lib/python3.11/dist-packages (from requests->transformers) (3.10)\n",
            "Requirement already satisfied: urllib3<3,>=1.21.1 in /usr/local/lib/python3.11/dist-packages (from requests->transformers) (2.3.0)\n",
            "Requirement already satisfied: certifi>=2017.4.17 in /usr/local/lib/python3.11/dist-packages (from requests->transformers) (2025.1.31)\n",
            "Requirement already satisfied: markdown>=2.6.8 in /usr/local/lib/python3.11/dist-packages (from tensorboard~=2.19.0->tensorflow) (3.7)\n",
            "Requirement already satisfied: tensorboard-data-server<0.8.0,>=0.7.0 in /usr/local/lib/python3.11/dist-packages (from tensorboard~=2.19.0->tensorflow) (0.7.2)\n",
            "Requirement already satisfied: werkzeug>=1.0.1 in /usr/local/lib/python3.11/dist-packages (from tensorboard~=2.19.0->tensorflow) (3.1.3)\n",
            "Requirement already satisfied: MarkupSafe>=2.0 in /usr/local/lib/python3.11/dist-packages (from jinja2->torch) (3.0.2)\n",
            "Requirement already satisfied: markdown-it-py>=2.2.0 in /usr/local/lib/python3.11/dist-packages (from rich->keras>=3.5.0->tensorflow) (3.0.0)\n",
            "Requirement already satisfied: pygments<3.0.0,>=2.13.0 in /usr/local/lib/python3.11/dist-packages (from rich->keras>=3.5.0->tensorflow) (2.18.0)\n",
            "Requirement already satisfied: mdurl~=0.1 in /usr/local/lib/python3.11/dist-packages (from markdown-it-py>=2.2.0->rich->keras>=3.5.0->tensorflow) (0.1.2)\n"
          ]
        }
      ],
      "source": [
        "# Step 1: Install ExLlamaV2\n",
        "!pip install exllamav2\n",
        "\n",
        "# Step 2: Clone the YuE-extend repo\n",
        "!git clone https://github.com/Mozer/YuE-extend\n",
        "%cd YuE-extend\n",
        "\n",
        "# Step 3: Install dependencies first (Flash Attention might get installed)\n",
        "!pip install -r requirements.txt\n",
        "\n",
        "# Step 4: Uninstall Flash Attention AFTER dependencies are installed\n",
        "!pip uninstall -y flash-attn flash-attn2 flash_attention\n",
        "\n",
        "# Step 5: Clone the Hugging Face model\n",
        "!git clone https://huggingface.co/m-a-p/xcodec_mini_infer\n",
        "\n",
        "# Step 6: Install specific version of protobuf to avoid import errors\n",
        "!pip install protobuf==3.20.3\n",
        "\n",
        "# Step 7: Upgrade necessary packages\n",
        "!pip install --upgrade transformers tensorflow torch torchvision torchaudio\n"
      ]
    },
    {
      "cell_type": "markdown",
      "source": [
        "# Download models"
      ],
      "metadata": {
        "id": "fdBfmbhhmxFF"
      }
    },
    {
      "cell_type": "code",
      "execution_count": 2,
      "metadata": {
        "id": "Tl68X2VPAHb8",
        "colab": {
          "base_uri": "https://localhost:8080/"
        },
        "outputId": "535e01a1-a022-4c3b-e5cc-5377d70dee78"
      },
      "outputs": [
        {
          "output_type": "stream",
          "name": "stdout",
          "text": [
            "\rFetching 7 files:   0% 0/7 [00:00<?, ?it/s]\rFetching 7 files: 100% 7/7 [00:00<00:00, 2812.81it/s]\n",
            "/content/YuE-extend/workspace/models/YuE-s1-7B-anneal-en-cot-exl2-8.0bpw\n",
            "Fetching 6 files: 100% 6/6 [00:00<00:00, 60787.01it/s]\n",
            "/content/YuE-extend/workspace/models/YuE-s2-1B-general-exl2-8.0bpw\n"
          ]
        }
      ],
      "source": [
        "# download COT s1 + s2 models\n",
        "# you can also download ICL model (optional)\n",
        "!huggingface-cli download Alissonerdx/YuE-s1-7B-anneal-en-cot-exl2-8.0bpw --local-dir workspace/models/YuE-s1-7B-anneal-en-cot-exl2-8.0bpw\n",
        "!huggingface-cli download Alissonerdx/YuE-s2-1B-general-exl2-8.0bpw --local-dir workspace/models/YuE-s2-1B-general-exl2-8.0bpw"
      ]
    },
    {
      "cell_type": "markdown",
      "metadata": {
        "id": "M0g2d7KbLahW"
      },
      "source": [
        "Don't start UI. Google colab doesn't like UIs. Use command line instead. You can edit lyrics and genre in Files on the left -> Yue-extend/prompt_egs/lyrics.txt (double click). Output mp3 will be saved in workspace/outputs/.\n",
        "\n",
        "# lyrics2music"
      ]
    },
    {
      "cell_type": "code",
      "source": [
        "!pip uninstall -y flash-attn flash-attn2\n"
      ],
      "metadata": {
        "colab": {
          "base_uri": "https://localhost:8080/"
        },
        "id": "gJvzBz2eQ6x7",
        "outputId": "21d07f1d-1442-4323-f21f-007a27a5eb6c"
      },
      "execution_count": 3,
      "outputs": [
        {
          "output_type": "stream",
          "name": "stdout",
          "text": [
            "\u001b[33mWARNING: Skipping flash-attn as it is not installed.\u001b[0m\u001b[33m\n",
            "\u001b[0m\u001b[33mWARNING: Skipping flash-attn2 as it is not installed.\u001b[0m\u001b[33m\n",
            "\u001b[0m"
          ]
        }
      ]
    },
    {
      "cell_type": "code",
      "execution_count": null,
      "metadata": {
        "id": "qdYnIUZmAIq-",
        "colab": {
          "base_uri": "https://localhost:8080/"
        },
        "outputId": "6671ae89-3650-4f3b-93f2-8edf05b71556"
      },
      "outputs": [
        {
          "output_type": "stream",
          "name": "stdout",
          "text": [
            "Starting stage 1...\n",
            "2025-03-22 19:28:14.625167: E external/local_xla/xla/stream_executor/cuda/cuda_fft.cc:467] Unable to register cuFFT factory: Attempting to register factory for plugin cuFFT when one has already been registered\n",
            "WARNING: All log messages before absl::InitializeLog() is called are written to STDERR\n",
            "E0000 00:00:1742671694.661463   44108 cuda_dnn.cc:8579] Unable to register cuDNN factory: Attempting to register factory for plugin cuDNN when one has already been registered\n",
            "E0000 00:00:1742671694.672778   44108 cuda_blas.cc:1407] Unable to register cuBLAS factory: Attempting to register factory for plugin cuBLAS when one has already been registered\n",
            "W0000 00:00:1742671694.698434   44108 computation_placer.cc:177] computation placer already registered. Please check linkage and avoid linking the same target more than once.\n",
            "W0000 00:00:1742671694.698471   44108 computation_placer.cc:177] computation placer already registered. Please check linkage and avoid linking the same target more than once.\n",
            "W0000 00:00:1742671694.698480   44108 computation_placer.cc:177] computation placer already registered. Please check linkage and avoid linking the same target more than once.\n",
            "W0000 00:00:1742671694.698484   44108 computation_placer.cc:177] computation placer already registered. Please check linkage and avoid linking the same target more than once.\n",
            "2025-03-22 19:28:14.706000: I tensorflow/core/platform/cpu_feature_guard.cc:210] This TensorFlow binary is optimized to use available CPU instructions in performance-critical operations.\n",
            "To enable the following instructions: AVX2 AVX512F FMA, in other operations, rebuild TensorFlow with the appropriate compiler flags.\n",
            "Creating empty input seq\n",
            "  0% 0/1 [00:00<?, ?it/s]\n",
            "  0% 0/3000 [00:00<?, ?it/s]\u001b[A\n",
            "  9% 280/3000 [00:10<01:37, 27.96it/s]\u001b[A\n",
            " 19% 560/3000 [00:21<01:34, 25.85it/s]\u001b[A\n",
            " 27% 806/3000 [00:32<01:31, 23.94it/s]\u001b[A\n",
            " 34% 1024/3000 [00:43<01:27, 22.59it/s]\u001b[A\n",
            " 41% 1229/3000 [00:53<01:22, 21.48it/s]\u001b[A\n",
            " 47% 1424/3000 [01:04<01:17, 20.45it/s]\u001b[A\n",
            " 54% 1609/3000 [01:15<01:11, 19.50it/s]\u001b[A\n",
            " 60% 1785/3000 [01:25<01:05, 18.62it/s]\u001b[A\n",
            " 65% 1953/3000 [01:36<00:58, 17.76it/s]\u001b[A\n",
            " 70% 2112/3000 [01:46<00:52, 16.96it/s]\u001b[A\n",
            " 75% 2264/3000 [01:57<00:45, 16.18it/s]\u001b[A\n",
            " 80% 2409/3000 [02:07<00:38, 15.45it/s]\u001b[A\n",
            " 85% 2547/3000 [02:18<00:30, 14.82it/s]\u001b[A\n",
            " 89% 2681/3000 [02:28<00:22, 14.27it/s]\u001b[A\n",
            " 94% 2811/3000 [02:38<00:13, 13.79it/s]\u001b[A\n",
            "100% 3000/3000 [02:54<00:00, 17.23it/s]\n",
            "100% 1/1 [02:54<00:00, 174.93s/it]\n",
            "Starting stage 2...\n",
            "2it [00:00, 921.83it/s]\n",
            "  0% 0/1 [00:00<?, ?it/s]\n",
            "  0% 0/300 [00:00<?, ?it/s]\u001b[A\n",
            " 13% 40/300 [00:10<01:06,  3.94it/s]\u001b[A\n",
            " 27% 80/300 [00:21<00:58,  3.74it/s]\u001b[A\n",
            " 39% 117/300 [00:32<00:52,  3.48it/s]\u001b[A\n",
            " 50% 150/300 [00:43<00:45,  3.28it/s]\u001b[A\n",
            " 60% 180/300 [00:54<00:38,  3.12it/s]\u001b[A"
          ]
        }
      ],
      "source": [
        "# simple cot music generation. 1 verse (run_n_segments), 30s (max_new_tokens)\n",
        "!python -u src/yue/infer.py --stage1_use_exl2 --stage1_model \"workspace/models/YuE-s1-7B-anneal-en-cot-exl2-8.0bpw\" --stage1_cache_size 30000 --stage1_cache_mode FP16 --stage2_use_exl2 --stage2_model \"workspace/models/YuE-s2-1B-general-exl2-8.0bpw\" --stage2_cache_size 50000 --stage2_cache_mode 'FP16' --genre_txt \"prompt_egs/genre.txt\" --lyrics_txt \"prompt_egs/lyrics.txt\" --run_n_segments 1 --output_dir workspace/outputs --cuda_idx 0 --seed 42 --max_new_tokens 3000 --basic_model_config xcodec_mini_infer/final_ckpt/config.yaml --resume_path xcodec_mini_infer/final_ckpt/ckpt_00360000.pth --config_path xcodec_mini_infer/decoders/config.yaml --vocal_decoder_path xcodec_mini_infer/decoders/decoder_131000.pth --inst_decoder_path xcodec_mini_infer/decoders/decoder_151000.pth --resume_after_n -1"
      ]
    },
    {
      "cell_type": "markdown",
      "source": [
        "# mp3 extend\n",
        "\n",
        "Trim your mp3 up to 30s. Use \"Files\" menu on the left to upload your split pop.00001.Vocals.mp3 + pop.00001.Instrumental.mp3 to Yue-extend/prompt_egs. To split use: https://huggingface.co/spaces/theneos/audio-separator or other services.\n",
        "Don't forget to update genre.txt and put full lyrics into lyrics.txt"
      ],
      "metadata": {
        "id": "n-xUrRvsZP2B"
      }
    },
    {
      "cell_type": "code",
      "source": [
        "# mp3 extend cot. 1 verse (run_n_segments), 28s (max_new_tokens), 7s from mp3 (extend_mp3_end_time)\n",
        "!python -u src/yue/infer.py --stage1_use_exl2 --stage1_model \"workspace/models/YuE-s1-7B-anneal-en-cot-exl2-8.0bpw\" --stage1_cache_size 25000 --stage1_cache_mode FP16 --stage2_use_exl2 --stage2_model \"workspace/models/YuE-s2-1B-general-exl2-8.0bpw\" --stage2_cache_size 50000 --stage2_cache_mode 'FP16' --genre_txt \"prompt_egs/genre.txt\" --lyrics_txt \"prompt_egs/lyrics.txt\" --run_n_segments 1 --output_dir workspace/outputs --cuda_idx 0 --seed 42 --max_new_tokens 2800 --basic_model_config xcodec_mini_infer/final_ckpt/config.yaml --resume_path xcodec_mini_infer/final_ckpt/ckpt_00360000.pth --config_path xcodec_mini_infer/decoders/config.yaml --vocal_decoder_path xcodec_mini_infer/decoders/decoder_131000.pth --inst_decoder_path xcodec_mini_infer/decoders/decoder_151000.pth --extend_mp3 --vocal_track_prompt_path \"prompt_egs/pop.00001.Vocals.mp3\" --instrumental_track_prompt_path \"prompt_egs/pop.00001.Instrumental.mp3\" --extend_mp3_end_time 7 --prompt_start_time 0 --prompt_end_time 8 --resume_after_n -1"
      ],
      "metadata": {
        "id": "kmrxODlFY8Fo",
        "colab": {
          "base_uri": "https://localhost:8080/"
        },
        "outputId": "f962b525-eb91-4d47-8d81-1f7792951186"
      },
      "execution_count": 5,
      "outputs": [
        {
          "output_type": "stream",
          "name": "stdout",
          "text": [
            "Starting stage 1...\n",
            "2025-03-22 19:22:49.049983: E external/local_xla/xla/stream_executor/cuda/cuda_fft.cc:467] Unable to register cuFFT factory: Attempting to register factory for plugin cuFFT when one has already been registered\n",
            "WARNING: All log messages before absl::InitializeLog() is called are written to STDERR\n",
            "E0000 00:00:1742671369.070155   36332 cuda_dnn.cc:8579] Unable to register cuDNN factory: Attempting to register factory for plugin cuDNN when one has already been registered\n",
            "E0000 00:00:1742671369.076423   36332 cuda_blas.cc:1407] Unable to register cuBLAS factory: Attempting to register factory for plugin cuBLAS when one has already been registered\n",
            "W0000 00:00:1742671369.092304   36332 computation_placer.cc:177] computation placer already registered. Please check linkage and avoid linking the same target more than once.\n",
            "W0000 00:00:1742671369.092332   36332 computation_placer.cc:177] computation placer already registered. Please check linkage and avoid linking the same target more than once.\n",
            "W0000 00:00:1742671369.092336   36332 computation_placer.cc:177] computation placer already registered. Please check linkage and avoid linking the same target more than once.\n",
            "W0000 00:00:1742671369.092339   36332 computation_placer.cc:177] computation placer already registered. Please check linkage and avoid linking the same target more than once.\n",
            "2025-03-22 19:22:49.097003: I tensorflow/core/platform/cpu_feature_guard.cc:210] This TensorFlow binary is optimized to use available CPU instructions in performance-critical operations.\n",
            "To enable the following instructions: AVX2 AVX512F FMA, in other operations, rebuild TensorFlow with the appropriate compiler flags.\n",
            "Tokenizing mp3s\n",
            "/usr/local/lib/python3.11/dist-packages/torch/nn/utils/weight_norm.py:143: FutureWarning: `torch.nn.utils.weight_norm` is deprecated in favor of `torch.nn.utils.parametrizations.weight_norm`.\n",
            "  WeightNorm.apply(module, name, dim)\n",
            "trimmed extend_mp3_interleaved to 0.0-7.0 s, size:700 tokens\n",
            "  0% 0/1 [00:00<?, ?it/s]extending mp3, creating new [segment] 1\n",
            "\n",
            "  0% 0/2800 [00:00<?, ?it/s]\u001b[A\n",
            "  8% 210/2800 [00:10<02:03, 20.92it/s]\u001b[A\n",
            " 15% 420/2800 [00:20<01:58, 20.04it/s]\u001b[A\n",
            " 22% 615/2800 [00:31<01:54, 19.10it/s]\u001b[A\n",
            " 28% 796/2800 [00:42<01:50, 18.15it/s]\u001b[A\n",
            " 34% 964/2800 [00:52<01:45, 17.38it/s]\u001b[A\n",
            " 40% 1124/2800 [01:03<01:40, 16.69it/s]\u001b[A\n",
            " 46% 1278/2800 [01:13<01:34, 16.10it/s]\u001b[A\n",
            " 51% 1427/2800 [01:24<01:28, 15.53it/s]\u001b[A\n",
            " 56% 1571/2800 [01:34<01:21, 14.99it/s]\u001b[A\n",
            " 65% 1814/2800 [01:53<01:01, 16.04it/s]\n",
            "100% 1/1 [01:54<00:00, 114.98s/it]\n",
            "Starting stage 2...\n",
            "2it [00:00, 949.58it/s]\n",
            "  0% 0/2 [00:00<?, ?it/s]\n",
            "  0% 0/300 [00:00<?, ?it/s]\u001b[A\n",
            " 17% 50/300 [00:10<00:50,  4.92it/s]\u001b[A\n",
            " 33% 100/300 [00:21<00:43,  4.56it/s]\u001b[A\n",
            " 48% 144/300 [00:33<00:37,  4.18it/s]\u001b[A\n",
            " 61% 182/300 [00:44<00:30,  3.89it/s]\u001b[A\n",
            " 72% 217/300 [00:55<00:22,  3.65it/s]\u001b[A\n",
            " 83% 250/300 [01:06<00:14,  3.44it/s]\u001b[A\n",
            "100% 300/300 [01:23<00:00,  3.58it/s]\n",
            " 50% 1/2 [01:24<01:24, 84.40s/it]\n",
            "100% 57/57 [00:04<00:00, 11.86it/s]\n",
            "100% 2/2 [01:29<00:00, 44.72s/it]\n",
            "Starting postprocessing...\n",
            "2025-03-22 19:27:38.439988: E external/local_xla/xla/stream_executor/cuda/cuda_fft.cc:467] Unable to register cuFFT factory: Attempting to register factory for plugin cuFFT when one has already been registered\n",
            "WARNING: All log messages before absl::InitializeLog() is called are written to STDERR\n",
            "E0000 00:00:1742671658.475717   43909 cuda_dnn.cc:8579] Unable to register cuDNN factory: Attempting to register factory for plugin cuDNN when one has already been registered\n",
            "E0000 00:00:1742671658.487274   43909 cuda_blas.cc:1407] Unable to register cuBLAS factory: Attempting to register factory for plugin cuBLAS when one has already been registered\n",
            "W0000 00:00:1742671658.516366   43909 computation_placer.cc:177] computation placer already registered. Please check linkage and avoid linking the same target more than once.\n",
            "W0000 00:00:1742671658.516403   43909 computation_placer.cc:177] computation placer already registered. Please check linkage and avoid linking the same target more than once.\n",
            "W0000 00:00:1742671658.516411   43909 computation_placer.cc:177] computation placer already registered. Please check linkage and avoid linking the same target more than once.\n",
            "W0000 00:00:1742671658.516418   43909 computation_placer.cc:177] computation placer already registered. Please check linkage and avoid linking the same target more than once.\n",
            "2025-03-22 19:27:38.523825: I tensorflow/core/platform/cpu_feature_guard.cc:210] This TensorFlow binary is optimized to use available CPU instructions in performance-critical operations.\n",
            "To enable the following instructions: AVX2 AVX512F FMA, in other operations, rebuild TensorFlow with the appropriate compiler flags.\n",
            "/usr/local/lib/python3.11/dist-packages/torch/nn/utils/weight_norm.py:143: FutureWarning: `torch.nn.utils.weight_norm` is deprecated in favor of `torch.nn.utils.parametrizations.weight_norm`.\n",
            "  WeightNorm.apply(module, name, dim)\n",
            "Processing workspace/outputs/stage2/vtrack.npy\n",
            "Compressed shape: (8, 1257)\n",
            "/content/YuE-extend/src/yue/vocoder.py:45: UserWarning: To copy construct from a tensor, it is recommended to use sourceTensor.clone().detach() or sourceTensor.clone().detach().requires_grad_(True), rather than torch.tensor(sourceTensor).\n",
            "  compressed = torch.tensor(compressed).to(device)\n",
            "Decoded in 0.28s (89.22x RTF)\n",
            "Saved: workspace/outputs/vocoder/stems/vtrack.mp3\n",
            "Processing workspace/outputs/stage2/itrack.npy\n",
            "Compressed shape: (8, 1257)\n",
            "Decoded in 0.05s (547.27x RTF)\n",
            "Saved: workspace/outputs/vocoder/stems/itrack.mp3\n",
            "Created mix: workspace/outputs/vocoder/mix/mixed.mp3\n",
            "Successfully created '1742671680_mixed.mp3' with matched low-frequency energy.\n"
          ]
        }
      ]
    }
  ],
  "metadata": {
    "accelerator": "GPU",
    "colab": {
      "gpuType": "T4",
      "provenance": [],
      "include_colab_link": true
    },
    "kernelspec": {
      "display_name": "Python 3",
      "name": "python3"
    },
    "language_info": {
      "name": "python"
    }
  },
  "nbformat": 4,
  "nbformat_minor": 0
}